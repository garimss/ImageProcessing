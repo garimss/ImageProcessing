import numpy as np
import cv2
import matplotlib
from matplotlib import pyplot as plt
img = cv2.imread('/images/tower.jpg',cv2.IMREAD_GRAYSCALE)

