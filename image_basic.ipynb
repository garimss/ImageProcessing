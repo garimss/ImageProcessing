import numpy as np
import cv2
import matplotlib
from matplotlib import pyplot as plt
import image
img = cv2.imread('tower.jpg',cv2.IMREAD_GRAYSCALE)
plt.imshow(img, cmap = 'gray', interpolation = 'bicubic')
plt.show()
