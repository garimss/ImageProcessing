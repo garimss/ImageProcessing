{
 "cells": [
  {
   "cell_type": "code",
   "execution_count": 38,
   "metadata": {
    "collapsed": false
   },
   "outputs": [
    {
     "name": "stdout",
     "output_type": "stream",
     "text": [
      "(448, 663, 3)\n",
      "(256, 3)\n",
      "(448, 663, 3)\n"
     ]
    }
   ],
   "source": [
    "import cv2\n",
    "import numpy as np\n",
    "from matplotlib import pyplot as plt\n",
     "import images\n",
    "\n",
    "img = cv2.imread('tower.jpg')\n",
    "plt.imshow(img, cmap = 'gray', interpolation = 'bicubic')\n"
    "plt.show()\n"
    
]
