{
 "cells": [
  {
   "cell_type": "code",
   "execution_count": 1,
   "metadata": {
    "collapsed": true
   },
   "outputs": [],
   "source": [
    "import cv2\n",
    "import numpy as np\n",
    "from matplotlib import pyplot as plt"
   ]
  },
  {
   "cell_type": "code",
   "execution_count": 5,
   "metadata": {
    "collapsed": true
   },
   "outputs": [],
   "source": [
    "img = cv2.imread('c:/tower.jpg',cv2.IMREAD_GRAYSCALE)"
   ]
  },
  {
   "cell_type": "code",
   "execution_count": 6,
   "metadata": {
    "collapsed": false
   },
   "outputs": [
    {
     "data": {
      "text/plain": [
       "<matplotlib.image.AxesImage at 0x80398d0>"
      ]
     },
     "execution_count": 6,
     "metadata": {},
     "output_type": "execute_result"
    }
   ],
   "source": [
    "plt.imshow(img, cmap = 'gray', interpolation = 'bicubic')"
   ]
  },
  {
   "cell_type": "code",
   "execution_count": 14,
   "metadata": {
    "collapsed": false
   },
   "outputs": [
    {
     "data": {
      "text/plain": [
       "(array([  3.16260000e+04,   6.51800000e+03,   3.21700000e+03,\n",
       "          2.60200000e+03,   2.88300000e+03,   3.00900000e+03,\n",
       "          3.40600000e+03,   3.87900000e+03,   4.05400000e+03,\n",
       "          4.28700000e+03,   4.31600000e+03,   3.99900000e+03,\n",
       "          3.81800000e+03,   3.54400000e+03,   3.19800000e+03,\n",
       "          2.84000000e+03,   2.65700000e+03,   2.31600000e+03,\n",
       "          2.08800000e+03,   1.88900000e+03,   1.64900000e+03,\n",
       "          1.41100000e+03,   1.22800000e+03,   1.11100000e+03,\n",
       "          9.60000000e+02,   9.06000000e+02,   7.91000000e+02,\n",
       "          7.23000000e+02,   6.31000000e+02,   6.28000000e+02,\n",
       "          5.84000000e+02,   5.49000000e+02,   4.68000000e+02,\n",
       "          4.52000000e+02,   4.40000000e+02,   4.54000000e+02,\n",
       "          4.27000000e+02,   3.95000000e+02,   4.05000000e+02,\n",
       "          3.63000000e+02,   3.03000000e+02,   3.07000000e+02,\n",
       "          3.09000000e+02,   2.75000000e+02,   2.69000000e+02,\n",
       "          2.71000000e+02,   2.71000000e+02,   2.33000000e+02,\n",
       "          2.29000000e+02,   2.11000000e+02,   2.37000000e+02,\n",
       "          2.17000000e+02,   3.57000000e+02,   9.48000000e+02,\n",
       "          1.28400000e+03,   1.56300000e+03,   2.30600000e+03,\n",
       "          3.21400000e+03,   4.06200000e+03,   4.94500000e+03,\n",
       "          5.02800000e+03,   4.78400000e+03,   5.06400000e+03,\n",
       "          4.82000000e+03,   4.48500000e+03,   4.94200000e+03,\n",
       "          5.98200000e+03,   7.03500000e+03,   6.64200000e+03,\n",
       "          6.04100000e+03,   5.71000000e+03,   5.79000000e+03,\n",
       "          5.82800000e+03,   5.84000000e+03,   5.18600000e+03,\n",
       "          4.84800000e+03,   4.31800000e+03,   4.02900000e+03,\n",
       "          3.55100000e+03,   2.86300000e+03,   2.35400000e+03,\n",
       "          1.91300000e+03,   1.50400000e+03,   1.17000000e+03,\n",
       "          8.69000000e+02,   6.02000000e+02,   4.75000000e+02,\n",
       "          3.65000000e+02,   3.38000000e+02,   3.38000000e+02,\n",
       "          3.35000000e+02,   3.26000000e+02,   3.82000000e+02,\n",
       "          3.76000000e+02,   3.80000000e+02,   4.24000000e+02,\n",
       "          4.10000000e+02,   4.38000000e+02,   4.21000000e+02,\n",
       "          4.37000000e+02,   4.62000000e+02,   4.82000000e+02,\n",
       "          5.04000000e+02,   5.19000000e+02,   5.73000000e+02,\n",
       "          6.17000000e+02,   5.97000000e+02,   6.59000000e+02,\n",
       "          5.85000000e+02,   5.88000000e+02,   6.81000000e+02,\n",
       "          6.38000000e+02,   6.76000000e+02,   6.81000000e+02,\n",
       "          7.28000000e+02,   7.15000000e+02,   7.97000000e+02,\n",
       "          7.98000000e+02,   8.22000000e+02,   8.50000000e+02,\n",
       "          8.79000000e+02,   9.63000000e+02,   9.45000000e+02,\n",
       "          9.96000000e+02,   1.00500000e+03,   1.03300000e+03,\n",
       "          1.08800000e+03,   9.63000000e+02,   9.76000000e+02,\n",
       "          9.63000000e+02,   8.96000000e+02,   8.70000000e+02,\n",
       "          7.49000000e+02,   6.95000000e+02,   6.19000000e+02,\n",
       "          5.41000000e+02,   4.50000000e+02,   3.65000000e+02,\n",
       "          3.15000000e+02,   3.22000000e+02,   3.21000000e+02,\n",
       "          3.15000000e+02,   2.89000000e+02,   2.97000000e+02,\n",
       "          3.07000000e+02,   3.01000000e+02,   3.20000000e+02,\n",
       "          3.50000000e+02,   3.52000000e+02,   3.25000000e+02,\n",
       "          2.97000000e+02,   3.11000000e+02,   3.32000000e+02,\n",
       "          3.40000000e+02,   3.64000000e+02,   3.60000000e+02,\n",
       "          3.63000000e+02,   3.50000000e+02,   3.72000000e+02,\n",
       "          3.50000000e+02,   3.68000000e+02,   3.05000000e+02,\n",
       "          3.13000000e+02,   3.44000000e+02,   3.25000000e+02,\n",
       "          3.63000000e+02,   3.13000000e+02,   3.24000000e+02,\n",
       "          3.35000000e+02,   3.41000000e+02,   3.46000000e+02,\n",
       "          3.52000000e+02,   3.52000000e+02,   3.91000000e+02,\n",
       "          3.50000000e+02,   3.42000000e+02,   3.74000000e+02,\n",
       "          3.54000000e+02,   3.40000000e+02,   4.00000000e+02,\n",
       "          3.70000000e+02,   4.03000000e+02,   3.73000000e+02,\n",
       "          3.88000000e+02,   3.80000000e+02,   4.05000000e+02,\n",
       "          4.49000000e+02,   4.08000000e+02,   4.09000000e+02,\n",
       "          3.77000000e+02,   3.90000000e+02,   4.25000000e+02,\n",
       "          3.85000000e+02,   3.65000000e+02,   3.76000000e+02,\n",
       "          3.23000000e+02,   3.78000000e+02,   3.44000000e+02,\n",
       "          3.44000000e+02,   3.31000000e+02,   3.32000000e+02,\n",
       "          2.74000000e+02,   2.64000000e+02,   2.52000000e+02,\n",
       "          2.50000000e+02,   2.08000000e+02,   2.02000000e+02,\n",
       "          2.08000000e+02,   1.80000000e+02,   2.01000000e+02,\n",
       "          2.14000000e+02,   1.80000000e+02,   1.55000000e+02,\n",
       "          1.43000000e+02,   1.33000000e+02,   1.14000000e+02,\n",
       "          1.08000000e+02,   1.37000000e+02,   9.50000000e+01,\n",
       "          1.24000000e+02,   1.10000000e+02,   7.10000000e+01,\n",
       "          7.60000000e+01,   7.70000000e+01,   5.20000000e+01,\n",
       "          4.90000000e+01,   4.60000000e+01,   5.10000000e+01,\n",
       "          4.90000000e+01,   5.80000000e+01,   4.60000000e+01,\n",
       "          3.70000000e+01,   4.00000000e+01,   2.10000000e+01,\n",
       "          3.60000000e+01,   2.70000000e+01,   2.40000000e+01,\n",
       "          1.70000000e+01,   2.10000000e+01,   2.50000000e+01,\n",
       "          1.80000000e+01,   1.90000000e+01,   2.70000000e+01,\n",
       "          1.80000000e+01,   1.70000000e+01,   1.10000000e+01,\n",
       "          2.00000000e+01,   2.30000000e+01,   1.80000000e+01,\n",
       "          1.80000000e+01,   1.30000000e+01,   2.30000000e+01,\n",
       "          1.70000000e+01,   1.80000000e+01,   3.90000000e+01,\n",
       "          4.30000000e+01]),\n",
       " array([   0.        ,    0.99609375,    1.9921875 ,    2.98828125,\n",
       "           3.984375  ,    4.98046875,    5.9765625 ,    6.97265625,\n",
       "           7.96875   ,    8.96484375,    9.9609375 ,   10.95703125,\n",
       "          11.953125  ,   12.94921875,   13.9453125 ,   14.94140625,\n",
       "          15.9375    ,   16.93359375,   17.9296875 ,   18.92578125,\n",
       "          19.921875  ,   20.91796875,   21.9140625 ,   22.91015625,\n",
       "          23.90625   ,   24.90234375,   25.8984375 ,   26.89453125,\n",
       "          27.890625  ,   28.88671875,   29.8828125 ,   30.87890625,\n",
       "          31.875     ,   32.87109375,   33.8671875 ,   34.86328125,\n",
       "          35.859375  ,   36.85546875,   37.8515625 ,   38.84765625,\n",
       "          39.84375   ,   40.83984375,   41.8359375 ,   42.83203125,\n",
       "          43.828125  ,   44.82421875,   45.8203125 ,   46.81640625,\n",
       "          47.8125    ,   48.80859375,   49.8046875 ,   50.80078125,\n",
       "          51.796875  ,   52.79296875,   53.7890625 ,   54.78515625,\n",
       "          55.78125   ,   56.77734375,   57.7734375 ,   58.76953125,\n",
       "          59.765625  ,   60.76171875,   61.7578125 ,   62.75390625,\n",
       "          63.75      ,   64.74609375,   65.7421875 ,   66.73828125,\n",
       "          67.734375  ,   68.73046875,   69.7265625 ,   70.72265625,\n",
       "          71.71875   ,   72.71484375,   73.7109375 ,   74.70703125,\n",
       "          75.703125  ,   76.69921875,   77.6953125 ,   78.69140625,\n",
       "          79.6875    ,   80.68359375,   81.6796875 ,   82.67578125,\n",
       "          83.671875  ,   84.66796875,   85.6640625 ,   86.66015625,\n",
       "          87.65625   ,   88.65234375,   89.6484375 ,   90.64453125,\n",
       "          91.640625  ,   92.63671875,   93.6328125 ,   94.62890625,\n",
       "          95.625     ,   96.62109375,   97.6171875 ,   98.61328125,\n",
       "          99.609375  ,  100.60546875,  101.6015625 ,  102.59765625,\n",
       "         103.59375   ,  104.58984375,  105.5859375 ,  106.58203125,\n",
       "         107.578125  ,  108.57421875,  109.5703125 ,  110.56640625,\n",
       "         111.5625    ,  112.55859375,  113.5546875 ,  114.55078125,\n",
       "         115.546875  ,  116.54296875,  117.5390625 ,  118.53515625,\n",
       "         119.53125   ,  120.52734375,  121.5234375 ,  122.51953125,\n",
       "         123.515625  ,  124.51171875,  125.5078125 ,  126.50390625,\n",
       "         127.5       ,  128.49609375,  129.4921875 ,  130.48828125,\n",
       "         131.484375  ,  132.48046875,  133.4765625 ,  134.47265625,\n",
       "         135.46875   ,  136.46484375,  137.4609375 ,  138.45703125,\n",
       "         139.453125  ,  140.44921875,  141.4453125 ,  142.44140625,\n",
       "         143.4375    ,  144.43359375,  145.4296875 ,  146.42578125,\n",
       "         147.421875  ,  148.41796875,  149.4140625 ,  150.41015625,\n",
       "         151.40625   ,  152.40234375,  153.3984375 ,  154.39453125,\n",
       "         155.390625  ,  156.38671875,  157.3828125 ,  158.37890625,\n",
       "         159.375     ,  160.37109375,  161.3671875 ,  162.36328125,\n",
       "         163.359375  ,  164.35546875,  165.3515625 ,  166.34765625,\n",
       "         167.34375   ,  168.33984375,  169.3359375 ,  170.33203125,\n",
       "         171.328125  ,  172.32421875,  173.3203125 ,  174.31640625,\n",
       "         175.3125    ,  176.30859375,  177.3046875 ,  178.30078125,\n",
       "         179.296875  ,  180.29296875,  181.2890625 ,  182.28515625,\n",
       "         183.28125   ,  184.27734375,  185.2734375 ,  186.26953125,\n",
       "         187.265625  ,  188.26171875,  189.2578125 ,  190.25390625,\n",
       "         191.25      ,  192.24609375,  193.2421875 ,  194.23828125,\n",
       "         195.234375  ,  196.23046875,  197.2265625 ,  198.22265625,\n",
       "         199.21875   ,  200.21484375,  201.2109375 ,  202.20703125,\n",
       "         203.203125  ,  204.19921875,  205.1953125 ,  206.19140625,\n",
       "         207.1875    ,  208.18359375,  209.1796875 ,  210.17578125,\n",
       "         211.171875  ,  212.16796875,  213.1640625 ,  214.16015625,\n",
       "         215.15625   ,  216.15234375,  217.1484375 ,  218.14453125,\n",
       "         219.140625  ,  220.13671875,  221.1328125 ,  222.12890625,\n",
       "         223.125     ,  224.12109375,  225.1171875 ,  226.11328125,\n",
       "         227.109375  ,  228.10546875,  229.1015625 ,  230.09765625,\n",
       "         231.09375   ,  232.08984375,  233.0859375 ,  234.08203125,\n",
       "         235.078125  ,  236.07421875,  237.0703125 ,  238.06640625,\n",
       "         239.0625    ,  240.05859375,  241.0546875 ,  242.05078125,\n",
       "         243.046875  ,  244.04296875,  245.0390625 ,  246.03515625,\n",
       "         247.03125   ,  248.02734375,  249.0234375 ,  250.01953125,\n",
       "         251.015625  ,  252.01171875,  253.0078125 ,  254.00390625,  255.        ]),\n",
       " <a list of 256 Patch objects>)"
      ]
     },
     "execution_count": 14,
     "metadata": {},
     "output_type": "execute_result"
    }
   ],
   "source": [
    "plt.hist(img.ravel(),256)"
   ]
  },
  {
   "cell_type": "code",
   "execution_count": 15,
   "metadata": {
    "collapsed": false
   },
   "outputs": [
    {
     "data": {
      "image/png": "[encoded data removed]",
      "text/plain": [
       "<matplotlib.figure.Figure at 0x9a21d30>"
      ]
     },
     "metadata": {},
     "output_type": "display_data"
    }
   ],
   "source": [
    "plt.show()"
   ]
  },
  {
   "cell_type": "code",
   "execution_count": 17,
   "metadata": {
    "collapsed": true
   },
   "outputs": [],
   "source": [
    "hist,bins = np.histogram(img.flatten(),256,[0,256])"
   ]
  },
  {
   "cell_type": "code",
   "execution_count": 18,
   "metadata": {
    "collapsed": true
   },
   "outputs": [],
   "source": [
    "cdf = hist.cumsum()"
   ]
  },
  {
   "cell_type": "code",
   "execution_count": 20,
   "metadata": {
    "collapsed": true
   },
   "outputs": [],
   "source": [
    "cdf_normalized = cdf * hist.max()/ cdf.max()"
   ]
  },
  {
   "cell_type": "code",
   "execution_count": 21,
   "metadata": {
    "collapsed": false
   },
   "outputs": [
    {
     "data": {
      "text/plain": [
       "[<matplotlib.lines.Line2D at 0xaf7f4e0>]"
      ]
     },
     "execution_count": 21,
     "metadata": {},
     "output_type": "execute_result"
    }
   ],
   "source": [
    "plt.plot(cdf_normalized, color = 'b')"
   ]
  },
  {
   "cell_type": "code",
   "execution_count": 22,
   "metadata": {
    "collapsed": false
   },
   "outputs": [
    {
     "data": {
      "text/plain": [
       "(array([  3.16260000e+04,   6.51800000e+03,   3.21700000e+03,\n",
       "          2.60200000e+03,   2.88300000e+03,   3.00900000e+03,\n",
       "          3.40600000e+03,   3.87900000e+03,   4.05400000e+03,\n",
       "          4.28700000e+03,   4.31600000e+03,   3.99900000e+03,\n",
       "          3.81800000e+03,   3.54400000e+03,   3.19800000e+03,\n",
       "          2.84000000e+03,   2.65700000e+03,   2.31600000e+03,\n",
       "          2.08800000e+03,   1.88900000e+03,   1.64900000e+03,\n",
       "          1.41100000e+03,   1.22800000e+03,   1.11100000e+03,\n",
       "          9.60000000e+02,   9.06000000e+02,   7.91000000e+02,\n",
       "          7.23000000e+02,   6.31000000e+02,   6.28000000e+02,\n",
       "          5.84000000e+02,   5.49000000e+02,   4.68000000e+02,\n",
       "          4.52000000e+02,   4.40000000e+02,   4.54000000e+02,\n",
       "          4.27000000e+02,   3.95000000e+02,   4.05000000e+02,\n",
       "          3.63000000e+02,   3.03000000e+02,   3.07000000e+02,\n",
       "          3.09000000e+02,   2.75000000e+02,   2.69000000e+02,\n",
       "          2.71000000e+02,   2.71000000e+02,   2.33000000e+02,\n",
       "          2.29000000e+02,   2.11000000e+02,   2.37000000e+02,\n",
       "          2.17000000e+02,   3.57000000e+02,   9.48000000e+02,\n",
       "          1.28400000e+03,   1.56300000e+03,   2.30600000e+03,\n",
       "          3.21400000e+03,   4.06200000e+03,   4.94500000e+03,\n",
       "          5.02800000e+03,   4.78400000e+03,   5.06400000e+03,\n",
       "          4.82000000e+03,   4.48500000e+03,   4.94200000e+03,\n",
       "          5.98200000e+03,   7.03500000e+03,   6.64200000e+03,\n",
       "          6.04100000e+03,   5.71000000e+03,   5.79000000e+03,\n",
       "          5.82800000e+03,   5.84000000e+03,   5.18600000e+03,\n",
       "          4.84800000e+03,   4.31800000e+03,   4.02900000e+03,\n",
       "          3.55100000e+03,   2.86300000e+03,   2.35400000e+03,\n",
       "          1.91300000e+03,   1.50400000e+03,   1.17000000e+03,\n",
       "          8.69000000e+02,   6.02000000e+02,   4.75000000e+02,\n",
       "          3.65000000e+02,   3.38000000e+02,   3.38000000e+02,\n",
       "          3.35000000e+02,   3.26000000e+02,   3.82000000e+02,\n",
       "          3.76000000e+02,   3.80000000e+02,   4.24000000e+02,\n",
       "          4.10000000e+02,   4.38000000e+02,   4.21000000e+02,\n",
       "          4.37000000e+02,   4.62000000e+02,   4.82000000e+02,\n",
       "          5.04000000e+02,   5.19000000e+02,   5.73000000e+02,\n",
       "          6.17000000e+02,   5.97000000e+02,   6.59000000e+02,\n",
       "          5.85000000e+02,   5.88000000e+02,   6.81000000e+02,\n",
       "          6.38000000e+02,   6.76000000e+02,   6.81000000e+02,\n",
       "          7.28000000e+02,   7.15000000e+02,   7.97000000e+02,\n",
       "          7.98000000e+02,   8.22000000e+02,   8.50000000e+02,\n",
       "          8.79000000e+02,   9.63000000e+02,   9.45000000e+02,\n",
       "          9.96000000e+02,   1.00500000e+03,   1.03300000e+03,\n",
       "          1.08800000e+03,   9.63000000e+02,   9.76000000e+02,\n",
       "          9.63000000e+02,   8.96000000e+02,   8.70000000e+02,\n",
       "          7.49000000e+02,   6.95000000e+02,   6.19000000e+02,\n",
       "          5.41000000e+02,   4.50000000e+02,   3.65000000e+02,\n",
       "          3.15000000e+02,   3.22000000e+02,   3.21000000e+02,\n",
       "          3.15000000e+02,   2.89000000e+02,   2.97000000e+02,\n",
       "          3.07000000e+02,   3.01000000e+02,   3.20000000e+02,\n",
       "          3.50000000e+02,   3.52000000e+02,   3.25000000e+02,\n",
       "          2.97000000e+02,   3.11000000e+02,   3.32000000e+02,\n",
       "          3.40000000e+02,   3.64000000e+02,   3.60000000e+02,\n",
       "          3.63000000e+02,   3.50000000e+02,   3.72000000e+02,\n",
       "          3.50000000e+02,   3.68000000e+02,   3.05000000e+02,\n",
       "          3.13000000e+02,   3.44000000e+02,   3.25000000e+02,\n",
       "          3.63000000e+02,   3.13000000e+02,   3.24000000e+02,\n",
       "          3.35000000e+02,   3.41000000e+02,   3.46000000e+02,\n",
       "          3.52000000e+02,   3.52000000e+02,   3.91000000e+02,\n",
       "          3.50000000e+02,   3.42000000e+02,   3.74000000e+02,\n",
       "          3.54000000e+02,   3.40000000e+02,   4.00000000e+02,\n",
       "          3.70000000e+02,   4.03000000e+02,   3.73000000e+02,\n",
       "          3.88000000e+02,   3.80000000e+02,   4.05000000e+02,\n",
       "          4.49000000e+02,   4.08000000e+02,   4.09000000e+02,\n",
       "          3.77000000e+02,   3.90000000e+02,   4.25000000e+02,\n",
       "          3.85000000e+02,   3.65000000e+02,   3.76000000e+02,\n",
       "          3.23000000e+02,   3.78000000e+02,   3.44000000e+02,\n",
       "          3.44000000e+02,   3.31000000e+02,   3.32000000e+02,\n",
       "          2.74000000e+02,   2.64000000e+02,   2.52000000e+02,\n",
       "          2.50000000e+02,   2.08000000e+02,   2.02000000e+02,\n",
       "          2.08000000e+02,   1.80000000e+02,   2.01000000e+02,\n",
       "          2.14000000e+02,   1.80000000e+02,   1.55000000e+02,\n",
       "          1.43000000e+02,   1.33000000e+02,   1.14000000e+02,\n",
       "          1.08000000e+02,   1.37000000e+02,   9.50000000e+01,\n",
       "          1.24000000e+02,   1.10000000e+02,   7.10000000e+01,\n",
       "          7.60000000e+01,   7.70000000e+01,   5.20000000e+01,\n",
       "          4.90000000e+01,   4.60000000e+01,   5.10000000e+01,\n",
       "          4.90000000e+01,   5.80000000e+01,   4.60000000e+01,\n",
       "          3.70000000e+01,   4.00000000e+01,   2.10000000e+01,\n",
       "          3.60000000e+01,   2.70000000e+01,   2.40000000e+01,\n",
       "          1.70000000e+01,   2.10000000e+01,   2.50000000e+01,\n",
       "          1.80000000e+01,   1.90000000e+01,   2.70000000e+01,\n",
       "          1.80000000e+01,   1.70000000e+01,   1.10000000e+01,\n",
       "          2.00000000e+01,   2.30000000e+01,   1.80000000e+01,\n",
       "          1.80000000e+01,   1.30000000e+01,   2.30000000e+01,\n",
       "          1.70000000e+01,   1.80000000e+01,   3.90000000e+01,\n",
       "          4.30000000e+01]),\n",
       " array([   0.,    1.,    2.,    3.,    4.,    5.,    6.,    7.,    8.,\n",
       "           9.,   10.,   11.,   12.,   13.,   14.,   15.,   16.,   17.,\n",
       "          18.,   19.,   20.,   21.,   22.,   23.,   24.,   25.,   26.,\n",
       "          27.,   28.,   29.,   30.,   31.,   32.,   33.,   34.,   35.,\n",
       "          36.,   37.,   38.,   39.,   40.,   41.,   42.,   43.,   44.,\n",
       "          45.,   46.,   47.,   48.,   49.,   50.,   51.,   52.,   53.,\n",
       "          54.,   55.,   56.,   57.,   58.,   59.,   60.,   61.,   62.,\n",
       "          63.,   64.,   65.,   66.,   67.,   68.,   69.,   70.,   71.,\n",
       "          72.,   73.,   74.,   75.,   76.,   77.,   78.,   79.,   80.,\n",
       "          81.,   82.,   83.,   84.,   85.,   86.,   87.,   88.,   89.,\n",
       "          90.,   91.,   92.,   93.,   94.,   95.,   96.,   97.,   98.,\n",
       "          99.,  100.,  101.,  102.,  103.,  104.,  105.,  106.,  107.,\n",
       "         108.,  109.,  110.,  111.,  112.,  113.,  114.,  115.,  116.,\n",
       "         117.,  118.,  119.,  120.,  121.,  122.,  123.,  124.,  125.,\n",
       "         126.,  127.,  128.,  129.,  130.,  131.,  132.,  133.,  134.,\n",
       "         135.,  136.,  137.,  138.,  139.,  140.,  141.,  142.,  143.,\n",
       "         144.,  145.,  146.,  147.,  148.,  149.,  150.,  151.,  152.,\n",
       "         153.,  154.,  155.,  156.,  157.,  158.,  159.,  160.,  161.,\n",
       "         162.,  163.,  164.,  165.,  166.,  167.,  168.,  169.,  170.,\n",
       "         171.,  172.,  173.,  174.,  175.,  176.,  177.,  178.,  179.,\n",
       "         180.,  181.,  182.,  183.,  184.,  185.,  186.,  187.,  188.,\n",
       "         189.,  190.,  191.,  192.,  193.,  194.,  195.,  196.,  197.,\n",
       "         198.,  199.,  200.,  201.,  202.,  203.,  204.,  205.,  206.,\n",
       "         207.,  208.,  209.,  210.,  211.,  212.,  213.,  214.,  215.,\n",
       "         216.,  217.,  218.,  219.,  220.,  221.,  222.,  223.,  224.,\n",
       "         225.,  226.,  227.,  228.,  229.,  230.,  231.,  232.,  233.,\n",
       "         234.,  235.,  236.,  237.,  238.,  239.,  240.,  241.,  242.,\n",
       "         243.,  244.,  245.,  246.,  247.,  248.,  249.,  250.,  251.,\n",
       "         252.,  253.,  254.,  255.,  256.]),\n",
       " <a list of 256 Patch objects>)"
      ]
     },
     "execution_count": 22,
     "metadata": {},
     "output_type": "execute_result"
    }
   ],
   "source": [
    "plt.hist(img.flatten(),256,[0,256], color = 'r')"
   ]
  },
  {
   "cell_type": "code",
   "execution_count": 23,
   "metadata": {
    "collapsed": false
   },
   "outputs": [
    {
     "data": {
      "text/plain": [
       "(0, 256)"
      ]
     },
     "execution_count": 23,
     "metadata": {},
     "output_type": "execute_result"
    }
   ],
   "source": [
    "plt.xlim([0,256])"
   ]
  },
  {
   "cell_type": "code",
   "execution_count": 24,
   "metadata": {
    "collapsed": false
   },
   "outputs": [
    {
     "data": {
      "text/plain": [
       "<matplotlib.legend.Legend at 0xaf7f8d0>"
      ]
     },
     "execution_count": 24,
     "metadata": {},
     "output_type": "execute_result"
    }
   ],
   "source": [
    "plt.legend(('cdf','histogram'), loc = 'upper left')"
   ]
  },
  {
   "cell_type": "code",
   "execution_count": 25,
   "metadata": {
    "collapsed": false
   },
   "outputs": [
    {
     "data": {
      "image/png": "[encoded data removed]",
      "text/plain": [
       "<matplotlib.figure.Figure at 0xa67a7b8>"
      ]
     },
     "metadata": {},
     "output_type": "display_data"
    }
   ],
   "source": [
    "plt.show()"
   ]
  },
  {
   "cell_type": "code",
   "execution_count": 26,
   "metadata": {
    "collapsed": true
   },
   "outputs": [],
   "source": [
    "cdf_m = np.ma.masked_equal(cdf,0)\n",
    "cdf_m = (cdf_m - cdf_m.min())*255/(cdf_m.max()-cdf_m.min())\n",
    "cdf = np.ma.filled(cdf_m,0).astype('uint8')"
   ]
  },
  {
   "cell_type": "code",
   "execution_count": 27,
   "metadata": {
    "collapsed": true
   },
   "outputs": [],
   "source": [
    "img2 = cdf[img]"
   ]
  },
  {
   "cell_type": "code",
   "execution_count": 28,
   "metadata": {
    "collapsed": true
   },
   "outputs": [],
   "source": [
    "img3 = cv2.imread('c:/tower.jpg',0)"
   ]
  },
  {
   "cell_type": "code",
   "execution_count": 29,
   "metadata": {
    "collapsed": true
   },
   "outputs": [],
   "source": [
    "equ = cv2.equalizeHist(img3) #histrogram equalization function"
   ]
  },
  {
   "cell_type": "code",
   "execution_count": 30,
   "metadata": {
    "collapsed": true
   },
   "outputs": [],
   "source": [
    "res = np.hstack((img3,equ)) #stacking images side-by-side"
   ]
  },
  {
   "cell_type": "raw",
   "metadata": {},
   "source": [
    "print(res.shape)"
   ]
  },
  {
   "cell_type": "code",
   "execution_count": 43,
   "metadata": {
    "collapsed": false
   },
   "outputs": [
    {
     "data": {
      "text/plain": [
       "True"
      ]
     },
     "execution_count": 43,
     "metadata": {},
     "output_type": "execute_result"
    }
   ],
   "source": [
    "cv2.imwrite('res.png',res)"
   ]
  },
  {
   "cell_type": "code",
   "execution_count": 44,
   "metadata": {
    "collapsed": true
   },
   "outputs": [],
   "source": [
    "img_stack = cv2.imread('res.png',cv2.IMREAD_GRAYSCALE)"
   ]
  },
  {
   "cell_type": "code",
   "execution_count": 45,
   "metadata": {
    "collapsed": false
   },
   "outputs": [
    {
     "data": {
      "text/plain": [
       "<matplotlib.image.AxesImage at 0xbc37c50>"
      ]
     },
     "execution_count": 45,
     "metadata": {},
     "output_type": "execute_result"
    }
   ],
   "source": [
    "plt.imshow(img_stack, cmap = 'gray', interpolation = 'bicubic')\n"
   ]
  },
  {
   "cell_type": "code",
   "execution_count": 46,
   "metadata": {
    "collapsed": false
   },
   "outputs": [
    {
     "data": {
      "image/png": "[encoded data removed]",
      "text/plain": [
       "<matplotlib.figure.Figure at 0xaf7f908>"
      ]
     },
     "metadata": {},
     "output_type": "display_data"
    }
   ],
   "source": [
    "plt.show()"
   ]
  },
  {
   "cell_type": "code",
   "execution_count": 47,
   "metadata": {
    "collapsed": false
   },
   "outputs": [
    {
     "data": {
      "image/png": "[encoded data removed]",
      "text/plain": [
       "<matplotlib.figure.Figure at 0x8123668>"
      ]
     },
     "metadata": {},
     "output_type": "display_data"
    }
   ],
   "source": [
    "hist,bins = np.histogram(img3.flatten(),256,[0,256])\n",
    "\n",
    "cdf2 = hist.cumsum()\n",
    "cdf_normalized2 = cdf * hist.max()/ cdf.max()\n",
    "\n",
    "plt.plot(cdf_normalized2, color = 'b')\n",
    "plt.hist(img3.flatten(),256,[0,256], color = 'r')\n",
    "plt.xlim([0,256])\n",
    "plt.legend(('cdf2','histogram'), loc = 'upper left')\n",
    "plt.show()"
   ]
  },
  {
   "cell_type": "code",
   "execution_count": 48,
   "metadata": {
    "collapsed": true
   },
   "outputs": [],
   "source": [
    "cdf_m2 = np.ma.masked_equal(cdf,0)\n",
    "cdf_m2 = (cdf_m2 - cdf_m2.min())*255/(cdf_m2.max()-cdf_m2.min())\n",
    "cdf2 = np.ma.filled(cdf_m,0).astype('uint8')"
   ]
  },
  {
   "cell_type": "code",
   "execution_count": 49,
   "metadata": {
    "collapsed": true
   },
   "outputs": [],
   "source": [
    "img4 = cdf2[img3]"
   ]
  },
  {
   "cell_type": "code",
   "execution_count": null,
   "metadata": {
    "collapsed": true
   },
   "outputs": [],
   "source": []
  }
 ],
 "metadata": {
  "kernelspec": {
   "display_name": "Python 2",
   "language": "python",
   "name": "python2"
  },
  "language_info": {
   "codemirror_mode": {
    "name": "ipython",
    "version": 2
   },
   "file_extension": ".py",
   "mimetype": "text/x-python",
   "name": "python",
   "nbconvert_exporter": "python",
   "pygments_lexer": "ipython2",
   "version": "2.7.13"
  }
 },
 "nbformat": 4,
 "nbformat_minor": 2
}
